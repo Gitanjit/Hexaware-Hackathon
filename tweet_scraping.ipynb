{
 "cells": [
  {
   "cell_type": "code",
   "execution_count": null,
   "metadata": {},
   "outputs": [],
   "source": [
    "import pandas as pd\n",
    "import numpy as np\n",
    "import tweepy\n",
    "import matplotlib.pyplot as plt\n",
    "import re\n",
    "import json\n",
    "import credentials\n",
    "import time \n",
    "import os"
   ]
  },
  {
   "cell_type": "code",
   "execution_count": null,
   "metadata": {},
   "outputs": [],
   "source": [
    "auth = tweepy.OAuthHandler(credentials.API_KEY, credentials.API_SECRET_KEY)\n",
    "auth.set_access_token(credentials.ACCESS_TOKEN, credentials.ACCESS_TOKEN_SECRET)\n",
    "api = tweepy.API(auth, wait_on_rate_limit = True)"
   ]
  },
  {
   "cell_type": "code",
   "execution_count": null,
   "metadata": {},
   "outputs": [],
   "source": [
    "my_qu = '@amazon'\n",
    "max_value = 18000\n",
    "searched_tweets = [t for t in tweepy.Cursor(api.search, q=my_qu, lang = 'en').items(max_value)]"
   ]
  },
  {
   "cell_type": "code",
   "execution_count": null,
   "metadata": {},
   "outputs": [],
   "source": [
    "searched_tweets[0]"
   ]
  },
  {
   "cell_type": "code",
   "execution_count": null,
   "metadata": {},
   "outputs": [],
   "source": [
    "tweets = []\n",
    "for i in searched_tweets:\n",
    "    tweets.append(i._json)\n",
    "    \n",
    "with open('tweets2.txt', 'w') as f:\n",
    "    f.write(json.dumps(tweets, indent = 4))"
   ]
  },
  {
   "cell_type": "code",
   "execution_count": null,
   "metadata": {},
   "outputs": [],
   "source": [
    "final_tweets = []\n",
    "with open('tweets2.txt', encoding = 'utf-8') as f:\n",
    "    data = json.load(f)\n",
    "    for i in data:\n",
    "        tweet_id = i['id']\n",
    "        text_present = i['text']\n",
    "        final_tweets.append({'tweet_id':str(tweet_id), 'text':str(text_present)})\n",
    "        dataset = pd.DataFrame(final_tweets, columns = ['tweet_id', 'text'])\n",
    "    dataset.to_csv('amazon_tweets.csv')"
   ]
  }
 ],
 "metadata": {
  "kernelspec": {
   "display_name": "Python 3",
   "language": "python",
   "name": "python3"
  },
  "language_info": {
   "codemirror_mode": {
    "name": "ipython",
    "version": 3
   },
   "file_extension": ".py",
   "mimetype": "text/x-python",
   "name": "python",
   "nbconvert_exporter": "python",
   "pygments_lexer": "ipython3",
   "version": "3.7.7"
  }
 },
 "nbformat": 4,
 "nbformat_minor": 4
}
